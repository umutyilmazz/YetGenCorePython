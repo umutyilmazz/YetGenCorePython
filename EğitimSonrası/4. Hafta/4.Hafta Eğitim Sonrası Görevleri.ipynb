{
 "cells": [
  {
   "cell_type": "markdown",
   "metadata": {},
   "source": [
    "# Problem 1\n",
    "`ogrenciler` adında bir sözlük oluşturunuz. Kullanıcıdan döngü yardımıyla 3 öğrenci için veri girmesini isteyerek öğrencilerin sırasıyla okul numarası, isim, soy isim, telefon numarası ve doğum tarihi bilgilerini alınız. Aldığınız öğrenci bilgilerini yine aynı döngü yardımıyla `ogrenciler` adındaki sözlükte saklayınız. Daha sonra öğrenci bilgilerinin bulunduğu sözlük yapısını ekrana bastırınız.\n",
    "\n"
   ]
  },
  {
   "cell_type": "code",
   "execution_count": null,
   "metadata": {},
   "outputs": [],
   "source": [
    "# 1.Problemin Çözümünü Buraya Yazınız\n",
    "ogrenciler = {}\n",
    "for x in range(3):\n",
    "    no = int(input(\"Öğrenci No: \"))\n",
    "    ad = input(\"Öğrenci İsim: \")\n",
    "    soyad = input(\"Öğrenci Soyisim: \")\n",
    "    telefon = input(\"Öğrenci Telefon No: \")\n",
    "    dogumTarih = input(\"Öğrenci Doğum Tarihi\")\n",
    "    geciciDict = {no: [ad,soyad,telefon,dogumTarih]}\n",
    "    ogrenciler.update(geciciDict)\n",
    "for x in ogrenciler:\n",
    "    print(f\"{x} numaralı öğrencinin\\nadı: {ogrenciler[x][0]}\\nsoyadı: {ogrenciler[x][1]}\\ntelefon numarası: {ogrenciler[x][2]}\\ndoğum tarihi: {ogrenciler[x][3]}\")"
   ]
  },
  {
   "cell_type": "markdown",
   "metadata": {},
   "source": [
    "# Problem 2\n",
    "\n",
    "### a - Biraz ısınarak başlayalım!\n",
    "\n",
    "```\n",
    "numbers = [5,10,10,15,15,15,20,20,20,20]\n",
    "```\n",
    "\n",
    "Yukarıda `numbers` adında 10 elemanlı bir liste verilmiştir. Bu listenin her elemanını kontrol eden ve tekrar eden elemanları bir kez olacak şekilde başka bir listeye kopyalayan bir program yazınız. Son olarak oluşturduğunuz listeyi ekrana bastırınız.\n",
    "\n",
    "\n",
    "\n",
    "\n",
    "```\n",
    ">Output\n",
    "[5, 10, 15, 20]\n",
    "```\n"
   ]
  },
  {
   "cell_type": "code",
   "execution_count": 13,
   "metadata": {},
   "outputs": [
    {
     "name": "stdout",
     "output_type": "stream",
     "text": [
      "[5, 10, 15, 20]\n"
     ]
    }
   ],
   "source": [
    "# 2.Problemin a Şıkkının Çözümünü Buraya Yazınız\n",
    "numbers = [5,10,10,15,15,15,20,20,20,20]\n",
    "newList = []\n",
    "for x in numbers:\n",
    "    if x in newList:\n",
    "        continue\n",
    "    else:\n",
    "        newList.append(x)\n",
    "print(newList)"
   ]
  },
  {
   "cell_type": "markdown",
   "metadata": {},
   "source": [
    "### 🌶️ b) Hadi işi biraz daha zorlaştıralım! \n",
    "\n",
    "\n",
    "Şimdiyse senden `numbers` isimli listedeki tekrar eden elemanları `repeatNumbers` adındaki listeye; tekrar etmeyen elemanları `uniqueNumbers`adındaki listeye kopyalayan yazmanı ve listeleri ekrana bastırmanı bekliyoruz\n",
    "\n",
    "```\n",
    ">Output\n",
    "Tekrar Eden Elemanlar: [10, 10, 15, 15, 15, 20, 20, 20, 20]\n",
    "Tekrar Etmeyen Elemanlar: [5]\n",
    "```"
   ]
  },
  {
   "cell_type": "code",
   "execution_count": 13,
   "metadata": {},
   "outputs": [
    {
     "name": "stdout",
     "output_type": "stream",
     "text": [
      "Tekrar Eden Elemanlar: [10, 10, 15, 15, 15, 20, 20, 20, 20]\n",
      "Tekrar Etmeyen Elemanlar: [5]\n"
     ]
    }
   ],
   "source": [
    "# 2.Problemin b Şıkkının Çözümünü Buraya Yazınız\n",
    "repeatNumbers = []\n",
    "uniqueNumbers = []\n",
    "numbers = [5,10,10,15,15,15,20,20,20,20]\n",
    "for x in numbers:\n",
    "    if numbers.count(x) == 1:\n",
    "        uniqueNumbers.append(x)\n",
    "    else:\n",
    "        repeatNumbers.append(x)\n",
    "\n",
    "print(f\"Tekrar Eden Elemanlar: {repeatNumbers}\\nTekrar Etmeyen Elemanlar: {uniqueNumbers}\")"
   ]
  },
  {
   "cell_type": "markdown",
   "metadata": {},
   "source": [
    "# Problem 3\n",
    "sn1 = {1,2,3,4,5}\n",
    "\n",
    "sn2 = {4,5,6,7,8}\n",
    "\n",
    " Verilen 2 adet küme için kesişimlerini, farklarını ve birleşimlerini bulunuz. "
   ]
  },
  {
   "cell_type": "code",
   "execution_count": null,
   "metadata": {},
   "outputs": [],
   "source": [
    "# 3.Problemin Çözümünü Buraya Yazınız\n",
    "sn1 = {1,2,3,4,5}\n",
    "sn2 = {4,5,6,7,8}\n",
    "kesisim = sn1.intersection(sn2)\n",
    "fark1 = sn1.difference(sn2)\n",
    "fark2 = sn2.difference(sn1)\n",
    "birlesim = sn1.union(sn2)\n",
    "print(f\"keşisim : {kesisim}\\nsn1/sn2 : {fark1}\\nsn2/sn1 : {fark2}\\nbirleşim : {birlesim}\")"
   ]
  },
  {
   "cell_type": "markdown",
   "metadata": {},
   "source": [
    "# Problem 4\n",
    "\n",
    "Buradaki işlemlerimizin tamamı stringler içindir. Aşağıda verilecek olan metodlar için kendinizin örnek yaratması gerekmektedir. \n",
    "\n",
    "Örneğin `upper` için `string` değişkeni oluştururken` k = \"BAC\"` şeklinde oluşturmayınız. Bunun yerine k değişkenini `k = \"bac`\" şeklinde oluşturmanız `upper` metodundaki değişimi görebilmeniz için daha iyi olacaktır.\n",
    "\n",
    "Bütün metodlardaki değişimin gözle görülür şekilde değişimi beklenmektedir.\n",
    "\n",
    "\n",
    "1- capitalize(), lower(), upper(), swapcase(), title(), replace()\n",
    "\n",
    "2- endswith(), startswith(), find(), index(), count()\n",
    "\n",
    "3- split(), strip(), join(), islower(), isalpha(), isdigit()\n",
    "\n",
    "\n",
    "Yukarıdaki `string` metodlarındaki değişimleri görebildiğimiz bir program yazınız.\n"
   ]
  },
  {
   "cell_type": "code",
   "execution_count": 12,
   "metadata": {},
   "outputs": [
    {
     "name": "stdout",
     "output_type": "stream",
     "text": [
      "Abcd\n",
      "ABCD\n",
      "abcd\n",
      "AbCd\n",
      "Python Is A Programming Language\n",
      "C is a programming language\n",
      "True\n",
      "False\n",
      "2\n",
      "3\n",
      "['abc', '1', '2', '3']\n",
      "abc 1 2 3\n",
      "abc 123 cda\n",
      "True\n",
      "False\n",
      "False\n"
     ]
    }
   ],
   "source": [
    "# 4.Problemin Çözümünü Buraya Yazınız\n",
    "# 1\n",
    "str1 = \"aBcD\"\n",
    "print(str1.capitalize())\n",
    "print(str1.upper())\n",
    "print(str1.lower())\n",
    "print(str1.swapcase())\n",
    "str2 = \"Python is a programming language\"\n",
    "print(str2.title())\n",
    "print(str2.replace(\"Python\",\"C\"))\n",
    "# 2\n",
    "str3 = \"abc123abc12\"\n",
    "print(str3.startswith(\"a\"))\n",
    "print(str3.endswith(\"c\"))\n",
    "print(str3.find(\"c1\"))\n",
    "print(str3.index(\"12\"))\n",
    "str3.count(\"a\")\n",
    "# 3\n",
    "str4 = \"    abc 1 2 3    \"\n",
    "list1 = str4.split()\n",
    "print(list1)\n",
    "print(str4.strip())\n",
    "list2 = [\"abc\",\"123\",\"cda\"]\n",
    "print(\" \".join(list2))\n",
    "str5 = \"abc,123,cda\"\n",
    "print(str5.islower())\n",
    "print(str5.isalpha())\n",
    "print(str5.isdigit())"
   ]
  }
 ],
 "metadata": {
  "kernelspec": {
   "display_name": "Python 3.11.1 64-bit",
   "language": "python",
   "name": "python3"
  },
  "language_info": {
   "codemirror_mode": {
    "name": "ipython",
    "version": 3
   },
   "file_extension": ".py",
   "mimetype": "text/x-python",
   "name": "python",
   "nbconvert_exporter": "python",
   "pygments_lexer": "ipython3",
   "version": "3.11.1"
  },
  "orig_nbformat": 4,
  "vscode": {
   "interpreter": {
    "hash": "aee8b7b246df8f9039afb4144a1f6fd8d2ca17a180786b69acc140d282b71a49"
   }
  }
 },
 "nbformat": 4,
 "nbformat_minor": 2
}
