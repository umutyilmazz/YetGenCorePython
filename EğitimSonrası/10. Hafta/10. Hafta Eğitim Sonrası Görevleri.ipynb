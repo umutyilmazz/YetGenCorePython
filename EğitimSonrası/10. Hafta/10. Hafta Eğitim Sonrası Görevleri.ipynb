{
 "cells": [
  {
   "attachments": {},
   "cell_type": "markdown",
   "metadata": {},
   "source": [
    "# Problem 1 "
   ]
  },
  {
   "cell_type": "code",
   "execution_count": null,
   "metadata": {},
   "outputs": [],
   "source": [
    "# 1 - numpy kütüphanesini import edin\n",
    "import numpy as np\n",
    "\n",
    "# 2 - 5 elemanlı bir numpy array oluşturun\n",
    "a = np.random.randint(low = 0, high = 100, size=5)\n",
    "\n",
    "# 3 - Oluşturduğunuz arrayi küçükten büyüğe sıralayın.\n",
    "siralanmis = np.sort(a)\n",
    "print(siralanmis)\n"
   ]
  },
  {
   "attachments": {},
   "cell_type": "markdown",
   "metadata": {},
   "source": [
    "# Problem 2"
   ]
  },
  {
   "cell_type": "code",
   "execution_count": 25,
   "metadata": {},
   "outputs": [],
   "source": [
    "import numpy as np\n",
    "# 1- (10,15,30,45,60) değerlerine sahip numpy dizisi oluşturunuz.\n",
    "a = np.array([10,15,30,45,60])\n",
    "\n",
    "# 2- (5-15) arasındaki sayılarla numpy dizisi oluşturunuz.\n",
    "b = np.arange(5,15)\n",
    " \n",
    "# 3- (50-100) arasında 5'er 5'er artarak numpy dizisi oluşturunuz.\n",
    "c = np.arange(50,100,5)\n",
    "\n",
    "# 4- 10 elemanlı sıfırlardan oluşan bir dizi oluşturunuz.\n",
    "d = np.zeros(10)\n",
    "\n",
    "# 5- 10 elemanlı birlerden oluşan bir dizi oluşturunuz.\n",
    "e = np.ones(10)\n",
    "\n",
    "# 6- (0-100) arasında eşit aralıklı 5 sayı üretin.\n",
    "f = np.linspace(0,100,num=5)\n",
    "\n",
    "# 7- (10-30) arasında rastgele 5 tane tamsayı üretin.\n",
    "g = np.random.randint(10,30,size=5)\n",
    "\n",
    "# 8- [-1 ile 1] arasında 10 adet sayı üretin.\n",
    "h = np.random.uniform(-1,1,size=10)\n",
    "\n",
    "# 9- (3x5) boyutlarında (10-50) arasında rastgele bir matris oluşturunuz.\n",
    "i = np.random.uniform(10,50,size=(3,5))\n",
    "\n",
    "# 10- Üretilen matrisin satır ve sütun sayıları toplamlarını hesaplayınız ?\n",
    "toplam1 = np.sum(i,axis = 1) # satır\n",
    "toplam2 = np.sum(i,axis = 0) # sütün\n",
    "\n",
    "# 11- Üretilen matrisin en büyük, en küçük ve ortalaması nedir ?\n",
    "max = np.max(i)\n",
    "min = np.min(i)\n",
    "mean = np.mean(i)\n",
    "\n",
    "# 12- Üretilen matrisin en büyük değerinin indeksi kaçtır ?\n",
    "index = np.where(i == max)\n",
    "\n",
    "# 13- (10-20) arasındaki sayıları içeren dizinin ilk 3 elemanını seçiniz.\n",
    "k = np.arange(10,20)\n",
    "ilk3 = k[:3]\n",
    "\n",
    "# 14- Üretilen dizinin elemanlarını tersten yazdırın.\n",
    "ters = k[::-1]\n",
    "\n",
    "# 15- Üretilen matrisin ilk satırını seçiniz.\n",
    "ilkSatir = i[0]\n",
    "\n",
    "# 16- Üretilen matrisin 2.satır 3.sütundaki elemanı hangisidir ?\n",
    "istenen1 = i[1][2]\n",
    "\n",
    "# 17- Üretilen matrisin tüm satırlardaki ilk elemanı seçiniz.\n",
    "ilkElemanlar = []\n",
    "for x in range(len(i)):\n",
    "    ilkElemanlar.append(i[x][0])\n",
    "\n",
    "# 18- Üretilen matrisin her bir elemanının karesini alınız.\n",
    "kareli = i**2\n",
    "\n",
    "# 19- Üretilen matris elemanlarının hangisi pozitif çift sayıdır ? Aralığı (-50,+50) arasında yapınız.\n",
    "matris = np.random.randint(-50, 51, size=(5,5))\n",
    "pozitif_cift_sayilar = matris[(matris > 0) & (matris % 2 == 0)]"
   ]
  }
 ],
 "metadata": {
  "kernelspec": {
   "display_name": "Python 3.11.1 64-bit",
   "language": "python",
   "name": "python3"
  },
  "language_info": {
   "codemirror_mode": {
    "name": "ipython",
    "version": 3
   },
   "file_extension": ".py",
   "mimetype": "text/x-python",
   "name": "python",
   "nbconvert_exporter": "python",
   "pygments_lexer": "ipython3",
   "version": "3.11.1"
  },
  "orig_nbformat": 4,
  "vscode": {
   "interpreter": {
    "hash": "aee8b7b246df8f9039afb4144a1f6fd8d2ca17a180786b69acc140d282b71a49"
   }
  }
 },
 "nbformat": 4,
 "nbformat_minor": 2
}
