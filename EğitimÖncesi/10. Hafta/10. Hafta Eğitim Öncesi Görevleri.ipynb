{
 "cells": [
  {
   "attachments": {},
   "cell_type": "markdown",
   "metadata": {},
   "source": [
    "# Problem 1"
   ]
  },
  {
   "cell_type": "code",
   "execution_count": null,
   "metadata": {},
   "outputs": [],
   "source": [
    "# 1 - numpy kütüphanesini import edin\n",
    "import numpy as np\n",
    "\n",
    "# 2 - 0 ile 10 arasında 5 sayıdan oluşan matris üretin\n",
    "a = np.random.uniform(low = 0,high = 10, size=(5,5))\n",
    "\n",
    "# 3 - matris'in boyutunu öğrenin\n",
    "print(a , f\"matrisinin boyutu: {a.shape}\")\n",
    "\n",
    "# 4 - matris'i yeniden boyutlandırın\n",
    "new = np.reshape(a,(1,25))\n",
    "print(new)\n",
    "\n",
    "# 5 - matris'in boyut sayısını öğrenin\n",
    "print(a , f\"matrisinin boyut sayısı: {a.ndim}\")\n"
   ]
  },
  {
   "attachments": {},
   "cell_type": "markdown",
   "metadata": {},
   "source": [
    "# Problem 2"
   ]
  },
  {
   "cell_type": "code",
   "execution_count": null,
   "metadata": {},
   "outputs": [],
   "source": [
    "import numpy as np\n",
    "# 1 - 0 ile 10 arasında bulunan tek sayılardan oluşan matris üretin\n",
    "dizi = np.arange(0,10)\n",
    "tekSayilar = dizi[dizi % 2 == 1]\n",
    "matris = np.reshape(tekSayilar, (len(tekSayilar),1))\n",
    "\n",
    "# 2 - Oluşturduğunuz matrisi parçalayın\n",
    "new = np.split(matris,(2,5))\n",
    "a = new[0]\n",
    "b = new[1]\n",
    "\n",
    "# 3 - Parçalanmış matrisleri birleştirin\n",
    "birlesik = np.concatenate(new)\n",
    "print(birlesik)\n"
   ]
  },
  {
   "attachments": {},
   "cell_type": "markdown",
   "metadata": {},
   "source": [
    "# Problem 3"
   ]
  },
  {
   "cell_type": "code",
   "execution_count": 21,
   "metadata": {},
   "outputs": [
    {
     "name": "stdout",
     "output_type": "stream",
     "text": [
      "[53 25  5  7 73 35 83  9 75 93]\n",
      "Boyutu: (10,)\n",
      "Boyut Sayısı: 1\n",
      "Veri Tipi: int64\n",
      "En Büyük Sayı: 93\n",
      "En Küçük Sayı: 5\n"
     ]
    }
   ],
   "source": [
    "import numpy as np\n",
    "# 1 - 5 ile 100 arasında ikişer ikişer atlayarak rastgele 10 sayıdan oluşan matris üretin\n",
    "a = np.arange(5,100,2)\n",
    "b = np.random.choice(a,size=10,replace=False)\n",
    "print(b)\n",
    "# 2 - matris'in özelliklerini inceleyin\n",
    "print(f\"Boyutu: {b.shape}\\nBoyut Sayısı: {b.ndim}\\nVeri Tipi: {b.dtype}\\nEn Büyük Sayı: {b.max()}\\nEn Küçük Sayı: {b.min()}\")\n"
   ]
  }
 ],
 "metadata": {
  "kernelspec": {
   "display_name": "Python 3.11.1 64-bit",
   "language": "python",
   "name": "python3"
  },
  "language_info": {
   "codemirror_mode": {
    "name": "ipython",
    "version": 3
   },
   "file_extension": ".py",
   "mimetype": "text/x-python",
   "name": "python",
   "nbconvert_exporter": "python",
   "pygments_lexer": "ipython3",
   "version": "3.11.1"
  },
  "orig_nbformat": 4,
  "vscode": {
   "interpreter": {
    "hash": "aee8b7b246df8f9039afb4144a1f6fd8d2ca17a180786b69acc140d282b71a49"
   }
  }
 },
 "nbformat": 4,
 "nbformat_minor": 2
}
